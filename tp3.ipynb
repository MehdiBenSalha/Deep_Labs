{
  "cells": [
    {
      "cell_type": "markdown",
      "metadata": {},
      "source": [
        "##### Les Membres Du Groupe (GL4): \n",
        "Mehdi Ben Salha <br>\n",
        "Zakaria Soussi <br>\n",
        "Med Amine Bouchnak\n"
      ]
    },
    {
      "cell_type": "code",
      "execution_count": 1,
      "metadata": {
        "colab": {
          "base_uri": "https://localhost:8080/"
        },
        "id": "aUb12C4WPCXz",
        "outputId": "85f00d57-5040-40e8-c93c-8a67df08801e"
      },
      "outputs": [
        {
          "name": "stdout",
          "output_type": "stream",
          "text": [
            "Defaulting to user installation because normal site-packages is not writeable\n",
            "Requirement already satisfied: keras in c:\\users\\mehdi\\appdata\\roaming\\python\\python311\\site-packages (2.15.0)\n"
          ]
        },
        {
          "name": "stderr",
          "output_type": "stream",
          "text": [
            "DEPRECATION: Loading egg at c:\\programdata\\anaconda3\\lib\\site-packages\\vboxapi-1.0-py3.11.egg is deprecated. pip 23.3 will enforce this behaviour change. A possible replacement is to use pip for package installation..\n"
          ]
        }
      ],
      "source": [
        "!pip install keras"
      ]
    },
    {
      "cell_type": "code",
      "execution_count": 2,
      "metadata": {
        "colab": {
          "base_uri": "https://localhost:8080/"
        },
        "id": "HVdIzQNuPTHs",
        "outputId": "ab25d388-c52a-4844-9b27-b131822ed043"
      },
      "outputs": [
        {
          "name": "stdout",
          "output_type": "stream",
          "text": [
            "Defaulting to user installation because normal site-packages is not writeable\n",
            "Collecting np_utils\n",
            "  Downloading np_utils-0.6.0.tar.gz (61 kB)\n",
            "     ---------------------------------------- 0.0/62.0 kB ? eta -:--:--\n",
            "     ------ --------------------------------- 10.2/62.0 kB ? eta -:--:--\n",
            "     ------------------------- ------------ 41.0/62.0 kB 487.6 kB/s eta 0:00:01\n",
            "     -------------------------------------- 62.0/62.0 kB 550.5 kB/s eta 0:00:00\n",
            "  Preparing metadata (setup.py): started\n",
            "  Preparing metadata (setup.py): finished with status 'done'\n",
            "Requirement already satisfied: numpy>=1.0 in c:\\programdata\\anaconda3\\lib\\site-packages (from np_utils) (1.24.3)\n",
            "Building wheels for collected packages: np_utils\n",
            "  Building wheel for np_utils (setup.py): started\n",
            "  Building wheel for np_utils (setup.py): finished with status 'done'\n",
            "  Created wheel for np_utils: filename=np_utils-0.6.0-py3-none-any.whl size=56454 sha256=8c586e46863234d24a5b22bda6fed84ea778ed6d3cf2840bf6d108902e54607b\n",
            "  Stored in directory: c:\\users\\mehdi\\appdata\\local\\pip\\cache\\wheels\\19\\0d\\33\\eaa4dcda5799bcbb51733c0744970d10edb4b9add4f41beb43\n",
            "Successfully built np_utils\n",
            "Installing collected packages: np_utils\n",
            "Successfully installed np_utils-0.6.0\n"
          ]
        },
        {
          "name": "stderr",
          "output_type": "stream",
          "text": [
            "DEPRECATION: Loading egg at c:\\programdata\\anaconda3\\lib\\site-packages\\vboxapi-1.0-py3.11.egg is deprecated. pip 23.3 will enforce this behaviour change. A possible replacement is to use pip for package installation..\n"
          ]
        }
      ],
      "source": [
        "!pip install np_utils"
      ]
    },
    {
      "cell_type": "code",
      "execution_count": 3,
      "metadata": {
        "id": "riDzEp_LNYeT"
      },
      "outputs": [
        {
          "name": "stdout",
          "output_type": "stream",
          "text": [
            "WARNING:tensorflow:From C:\\Users\\Mehdi\\AppData\\Roaming\\Python\\Python311\\site-packages\\keras\\src\\losses.py:2976: The name tf.losses.sparse_softmax_cross_entropy is deprecated. Please use tf.compat.v1.losses.sparse_softmax_cross_entropy instead.\n",
            "\n"
          ]
        }
      ],
      "source": [
        "import numpy as np\n",
        "from keras.datasets import mnist\n",
        "from keras import utils as np_utils\n",
        "\n",
        "from keras import backend as K\n",
        "K.set_image_data_format('channels_first')\n",
        "# fix random seed for reproducibility\n",
        "seed = 7\n",
        "np.random.seed(seed)\n",
        "from keras.models import Sequential\n",
        "from keras.layers import Dense\n",
        "from keras.layers import Dropout\n",
        "from keras.layers import Flatten\n",
        "from keras.layers import Conv2D\n",
        "from keras.layers import MaxPooling2D"
      ]
    },
    {
      "cell_type": "code",
      "execution_count": 4,
      "metadata": {
        "colab": {
          "base_uri": "https://localhost:8080/"
        },
        "id": "5qfIaejdP4EU",
        "outputId": "1a79c8a7-c8d4-40cc-fa04-399b4f409359"
      },
      "outputs": [
        {
          "name": "stdout",
          "output_type": "stream",
          "text": [
            "Downloading data from https://storage.googleapis.com/tensorflow/tf-keras-datasets/mnist.npz\n",
            "11490434/11490434 [==============================] - 20s 2us/step\n"
          ]
        }
      ],
      "source": [
        "(X_train, y_train),(X_test, y_test)= mnist.load_data()"
      ]
    },
    {
      "cell_type": "code",
      "execution_count": 5,
      "metadata": {
        "colab": {
          "base_uri": "https://localhost:8080/",
          "height": 36
        },
        "id": "JsaQoXJfQAWa",
        "outputId": "34f0d8ff-a690-4d0d-9c40-7f548b8395e6"
      },
      "outputs": [
        {
          "data": {
            "text/plain": [
              "'float32'"
            ]
          },
          "execution_count": 5,
          "metadata": {},
          "output_type": "execute_result"
        }
      ],
      "source": [
        "# reshape to be [samples][pixels][width][height]\n",
        "X_train = X_train.reshape(X_train.shape[0], 1, 28,28).astype\n",
        "('float32')\n",
        "X_test = X_test.reshape(X_test.shape[0], 1, 28, 28).astype\n",
        "('float32')"
      ]
    },
    {
      "cell_type": "code",
      "execution_count": 6,
      "metadata": {
        "id": "aMkrRmZaQk9X"
      },
      "outputs": [],
      "source": [
        "#one hot encode outputs\n",
        "y_train = np_utils.to_categorical(y_train)\n",
        "y_test = np_utils.to_categorical(y_test)\n",
        "num_classes = y_test.shape[1]"
      ]
    },
    {
      "cell_type": "code",
      "execution_count": 7,
      "metadata": {
        "id": "7aR8KKlGQ2GP"
      },
      "outputs": [],
      "source": [
        "def get_data_mnist():\n",
        "    # load data\n",
        "    (X_train, y_train), (X_test, y_test) = mnist.load_data()\n",
        "    # reshape to be [samples][pixels][width][height]\n",
        "    X_train = X_train.reshape(X_train.shape[0], 1, 28, 28).astype('float32')\n",
        "    X_test = X_test.reshape(X_test.shape[0], 1, 28, 28).astype('float32')\n",
        "\n",
        "\n",
        "    # normalize inputs from 0-255 to 0-1\n",
        "    X_train = X_train / 255\n",
        "    X_test = X_test / 255\n",
        "    # one hot encode outputs\n",
        "    y_train = np_utils.to_categorical(y_train)\n",
        "    y_test = np_utils.to_categorical(y_test)\n",
        "    num_classes = y_test.shape[1]\n",
        "    return (X_train, y_train), (X_test, y_test), num_classes\n"
      ]
    },
    {
      "cell_type": "code",
      "execution_count": 8,
      "metadata": {
        "id": "4zxSCtr1RWcV"
      },
      "outputs": [
        {
          "name": "stdout",
          "output_type": "stream",
          "text": [
            "WARNING:tensorflow:From C:\\Users\\Mehdi\\AppData\\Roaming\\Python\\Python311\\site-packages\\keras\\src\\backend.py:873: The name tf.get_default_graph is deprecated. Please use tf.compat.v1.get_default_graph instead.\n",
            "\n",
            "WARNING:tensorflow:From C:\\Users\\Mehdi\\AppData\\Roaming\\Python\\Python311\\site-packages\\keras\\src\\optimizers\\__init__.py:309: The name tf.train.Optimizer is deprecated. Please use tf.compat.v1.train.Optimizer instead.\n",
            "\n"
          ]
        }
      ],
      "source": [
        "\n",
        "def small_model(num_classes):\n",
        "    model = Sequential()\n",
        "\n",
        "    model.add(Conv2D(64, (3, 3), input_shape=(1, 28, 28), activation='relu'))\n",
        "    model.add(Conv2D(32, (3, 3), activation='relu'))\n",
        "\n",
        "    model.add(Flatten())\n",
        "\n",
        "    model.add(Dense(num_classes, activation='softmax'))\n",
        "\n",
        "    model.compile(loss='categorical_crossentropy', optimizer='adam', metrics=['accuracy'])\n",
        "    return model\n",
        "\n",
        "num_classes = 10\n",
        "model = small_model(num_classes)"
      ]
    },
    {
      "cell_type": "markdown",
      "metadata": {
        "id": "qsxwx0QbU0yt"
      },
      "source": []
    },
    {
      "cell_type": "code",
      "execution_count": 9,
      "metadata": {
        "colab": {
          "base_uri": "https://localhost:8080/"
        },
        "id": "3X934aKAVcjS",
        "outputId": "c1f43cbc-763d-4bea-d1b2-9c7f40dca65c"
      },
      "outputs": [
        {
          "name": "stdout",
          "output_type": "stream",
          "text": [
            "Model: \"sequential\"\n",
            "_________________________________________________________________\n",
            " Layer (type)                Output Shape              Param #   \n",
            "=================================================================\n",
            " conv2d (Conv2D)             (None, 64, 26, 26)        640       \n",
            "                                                                 \n",
            " conv2d_1 (Conv2D)           (None, 32, 24, 24)        18464     \n",
            "                                                                 \n",
            " flatten (Flatten)           (None, 18432)             0         \n",
            "                                                                 \n",
            " dense (Dense)               (None, 10)                184330    \n",
            "                                                                 \n",
            "=================================================================\n",
            "Total params: 203434 (794.66 KB)\n",
            "Trainable params: 203434 (794.66 KB)\n",
            "Non-trainable params: 0 (0.00 Byte)\n",
            "_________________________________________________________________\n"
          ]
        }
      ],
      "source": [
        "model.summary()"
      ]
    },
    {
      "cell_type": "code",
      "execution_count": 10,
      "metadata": {
        "colab": {
          "base_uri": "https://localhost:8080/"
        },
        "id": "7MIvpBEmRroA",
        "outputId": "24294059-5a06-4280-809d-6a6418fad047"
      },
      "outputs": [
        {
          "name": "stdout",
          "output_type": "stream",
          "text": [
            "Epoch 1/10\n",
            "WARNING:tensorflow:From C:\\Users\\Mehdi\\AppData\\Roaming\\Python\\Python311\\site-packages\\keras\\src\\utils\\tf_utils.py:492: The name tf.ragged.RaggedTensorValue is deprecated. Please use tf.compat.v1.ragged.RaggedTensorValue instead.\n",
            "\n",
            "WARNING:tensorflow:From C:\\Users\\Mehdi\\AppData\\Roaming\\Python\\Python311\\site-packages\\keras\\src\\engine\\base_layer_utils.py:384: The name tf.executing_eagerly_outside_functions is deprecated. Please use tf.compat.v1.executing_eagerly_outside_functions instead.\n",
            "\n",
            "300/300 [==============================] - 56s 183ms/step - loss: 0.2170 - accuracy: 0.9382 - val_loss: 0.0667 - val_accuracy: 0.9796\n",
            "Epoch 2/10\n",
            "300/300 [==============================] - 57s 192ms/step - loss: 0.0613 - accuracy: 0.9815 - val_loss: 0.0644 - val_accuracy: 0.9811\n",
            "Epoch 3/10\n",
            "300/300 [==============================] - 58s 194ms/step - loss: 0.0447 - accuracy: 0.9869 - val_loss: 0.0512 - val_accuracy: 0.9829\n",
            "Epoch 4/10\n",
            "300/300 [==============================] - 70s 233ms/step - loss: 0.0332 - accuracy: 0.9896 - val_loss: 0.0457 - val_accuracy: 0.9859\n",
            "Epoch 5/10\n",
            "300/300 [==============================] - 64s 212ms/step - loss: 0.0252 - accuracy: 0.9918 - val_loss: 0.0472 - val_accuracy: 0.9862\n",
            "Epoch 6/10\n",
            "300/300 [==============================] - 60s 199ms/step - loss: 0.0200 - accuracy: 0.9939 - val_loss: 0.0476 - val_accuracy: 0.9855\n",
            "Epoch 7/10\n",
            "300/300 [==============================] - 60s 200ms/step - loss: 0.0150 - accuracy: 0.9954 - val_loss: 0.0502 - val_accuracy: 0.9860\n",
            "Epoch 8/10\n",
            "300/300 [==============================] - 59s 198ms/step - loss: 0.0123 - accuracy: 0.9960 - val_loss: 0.0521 - val_accuracy: 0.9855\n",
            "Epoch 9/10\n",
            "300/300 [==============================] - 58s 195ms/step - loss: 0.0106 - accuracy: 0.9963 - val_loss: 0.0525 - val_accuracy: 0.9861\n",
            "Epoch 10/10\n",
            "300/300 [==============================] - 64s 214ms/step - loss: 0.0081 - accuracy: 0.9973 - val_loss: 0.0559 - val_accuracy: 0.9859\n"
          ]
        },
        {
          "data": {
            "text/plain": [
              "<keras.src.callbacks.History at 0x227002b58d0>"
            ]
          },
          "execution_count": 10,
          "metadata": {},
          "output_type": "execute_result"
        }
      ],
      "source": [
        "(X_train, y_train), (X_test, y_test), num_classes = get_data_mnist()\n",
        "\n",
        "model.fit(X_train, y_train, validation_data=(X_test, y_test), epochs=10, batch_size=200)\n"
      ]
    },
    {
      "cell_type": "code",
      "execution_count": 11,
      "metadata": {
        "colab": {
          "base_uri": "https://localhost:8080/"
        },
        "id": "EdAXsFRwX7_d",
        "outputId": "103b7a78-ce9b-4786-b48f-30b0db114155"
      },
      "outputs": [
        {
          "name": "stdout",
          "output_type": "stream",
          "text": [
            "Model score : 98.59%\n",
            "Model error rate : 1.41%\n"
          ]
        }
      ],
      "source": [
        "def print_model_error_rate(model, X_test, y_test):\n",
        "  # Final evaluation of the model\n",
        "  scores = model.evaluate(X_test, y_test, verbose=0)\n",
        "  print(\"Model score : %.2f%%\" % (scores[1]*100))\n",
        "  print(\"Model error rate : %.2f%%\" % (100-scores[1]*100))\n",
        "\n",
        "print_model_error_rate(model,X_test,y_test)"
      ]
    },
    {
      "cell_type": "code",
      "execution_count": 12,
      "metadata": {
        "id": "fn-NCKP5ZuuW"
      },
      "outputs": [],
      "source": [
        "def medium_model():\n",
        "    # create model\n",
        "    model = Sequential()\n",
        "    model.add(Conv2D(32, (5, 5), input_shape=(1, 28, 28), activation='relu'))\n",
        "    model.add(MaxPooling2D(pool_size=(2, 2)))\n",
        "    model.add(Dropout(0.2))\n",
        "    model.add(Flatten())\n",
        "    model.add(Dense(128, activation='relu'))\n",
        "    model.add(Dense(num_classes, activation='softmax'))\n",
        "    # Compile model\n",
        "    model.compile(loss='categorical_crossentropy', optimizer='adam', metrics=['accuracy'])\n",
        "    return model"
      ]
    },
    {
      "cell_type": "code",
      "execution_count": 13,
      "metadata": {
        "colab": {
          "base_uri": "https://localhost:8080/"
        },
        "id": "tpH31bm_aM9w",
        "outputId": "9d1ea1a4-6880-4852-f874-9197a3405f43"
      },
      "outputs": [
        {
          "name": "stdout",
          "output_type": "stream",
          "text": [
            "WARNING:tensorflow:From C:\\Users\\Mehdi\\AppData\\Roaming\\Python\\Python311\\site-packages\\keras\\src\\layers\\pooling\\max_pooling2d.py:161: The name tf.nn.max_pool is deprecated. Please use tf.nn.max_pool2d instead.\n",
            "\n",
            "Epoch 1/10\n",
            "300/300 [==============================] - 13s 42ms/step - loss: 0.2374 - accuracy: 0.9327 - val_loss: 0.0813 - val_accuracy: 0.9748\n",
            "Epoch 2/10\n",
            "300/300 [==============================] - 11s 37ms/step - loss: 0.0746 - accuracy: 0.9779 - val_loss: 0.0524 - val_accuracy: 0.9829\n",
            "Epoch 3/10\n",
            "300/300 [==============================] - 11s 36ms/step - loss: 0.0528 - accuracy: 0.9843 - val_loss: 0.0453 - val_accuracy: 0.9860\n",
            "Epoch 4/10\n",
            "300/300 [==============================] - 13s 42ms/step - loss: 0.0403 - accuracy: 0.9877 - val_loss: 0.0386 - val_accuracy: 0.9876\n",
            "Epoch 5/10\n",
            "300/300 [==============================] - 12s 39ms/step - loss: 0.0331 - accuracy: 0.9897 - val_loss: 0.0370 - val_accuracy: 0.9883\n",
            "Epoch 6/10\n",
            "300/300 [==============================] - 13s 42ms/step - loss: 0.0270 - accuracy: 0.9915 - val_loss: 0.0348 - val_accuracy: 0.9887\n",
            "Epoch 7/10\n",
            "300/300 [==============================] - 11s 38ms/step - loss: 0.0225 - accuracy: 0.9931 - val_loss: 0.0295 - val_accuracy: 0.9900\n",
            "Epoch 8/10\n",
            "300/300 [==============================] - 11s 35ms/step - loss: 0.0191 - accuracy: 0.9939 - val_loss: 0.0318 - val_accuracy: 0.9898\n",
            "Epoch 9/10\n",
            "300/300 [==============================] - 10s 34ms/step - loss: 0.0156 - accuracy: 0.9951 - val_loss: 0.0353 - val_accuracy: 0.9881\n",
            "Epoch 10/10\n",
            "300/300 [==============================] - 12s 40ms/step - loss: 0.0131 - accuracy: 0.9961 - val_loss: 0.0388 - val_accuracy: 0.9880\n",
            "Model score : 98.80%\n",
            "Model error rate : 1.20%\n"
          ]
        }
      ],
      "source": [
        "model_medium = medium_model()\n",
        "\n",
        "model_medium.fit(X_train, y_train, validation_data=(X_test, y_test), epochs=10, batch_size=200)\n",
        "print_model_error_rate(model_medium,X_test,y_test)"
      ]
    },
    {
      "cell_type": "code",
      "execution_count": 14,
      "metadata": {
        "id": "qfwXVx7CavuB"
      },
      "outputs": [],
      "source": [
        "def large_model():\n",
        "    # create model\n",
        "    model = Sequential()\n",
        "    model.add(Conv2D(30, (5, 5), input_shape=(1, 28, 28), activation='relu'))\n",
        "    model.add(MaxPooling2D(pool_size=(2, 2)))\n",
        "    model.add(Conv2D(15, (3, 3), activation='relu'))\n",
        "    model.add(MaxPooling2D(pool_size=(2, 2)))\n",
        "    model.add(Dropout(0.2))\n",
        "    model.add(Flatten())\n",
        "    model.add(Dense(128, activation='relu'))\n",
        "    model.add(Dense(50, activation='relu'))\n",
        "    model.add(Dense(num_classes, activation='softmax'))\n",
        "    # Compile model\n",
        "    model.compile(loss='categorical_crossentropy', optimizer='adam', metrics=['accuracy'])\n",
        "    return model"
      ]
    },
    {
      "cell_type": "code",
      "execution_count": 15,
      "metadata": {
        "colab": {
          "base_uri": "https://localhost:8080/"
        },
        "id": "eAToThQ_bFX8",
        "outputId": "214f02fc-8ccc-4663-8b43-9efd7cda700c"
      },
      "outputs": [
        {
          "name": "stdout",
          "output_type": "stream",
          "text": [
            "Epoch 1/10\n",
            "300/300 [==============================] - 14s 44ms/step - loss: 0.3870 - accuracy: 0.8797 - val_loss: 0.0817 - val_accuracy: 0.9759\n",
            "Epoch 2/10\n",
            "300/300 [==============================] - 14s 48ms/step - loss: 0.0923 - accuracy: 0.9725 - val_loss: 0.0480 - val_accuracy: 0.9857\n",
            "Epoch 3/10\n",
            "300/300 [==============================] - 15s 51ms/step - loss: 0.0661 - accuracy: 0.9797 - val_loss: 0.0398 - val_accuracy: 0.9878\n",
            "Epoch 4/10\n",
            "300/300 [==============================] - 13s 44ms/step - loss: 0.0540 - accuracy: 0.9833 - val_loss: 0.0313 - val_accuracy: 0.9891\n",
            "Epoch 5/10\n",
            "300/300 [==============================] - 13s 45ms/step - loss: 0.0477 - accuracy: 0.9853 - val_loss: 0.0307 - val_accuracy: 0.9905\n",
            "Epoch 6/10\n",
            "300/300 [==============================] - 13s 43ms/step - loss: 0.0399 - accuracy: 0.9875 - val_loss: 0.0337 - val_accuracy: 0.9889\n",
            "Epoch 7/10\n",
            "300/300 [==============================] - 15s 49ms/step - loss: 0.0368 - accuracy: 0.9882 - val_loss: 0.0305 - val_accuracy: 0.9901\n",
            "Epoch 8/10\n",
            "300/300 [==============================] - 14s 47ms/step - loss: 0.0327 - accuracy: 0.9890 - val_loss: 0.0270 - val_accuracy: 0.9922\n",
            "Epoch 9/10\n",
            "300/300 [==============================] - 15s 49ms/step - loss: 0.0298 - accuracy: 0.9901 - val_loss: 0.0254 - val_accuracy: 0.9916\n",
            "Epoch 10/10\n",
            "300/300 [==============================] - 12s 41ms/step - loss: 0.0278 - accuracy: 0.9911 - val_loss: 0.0228 - val_accuracy: 0.9927\n",
            "Model score : 99.27%\n",
            "Model error rate : 0.73%\n"
          ]
        }
      ],
      "source": [
        "model_large = large_model()\n",
        "\n",
        "model_large.fit(X_train, y_train, validation_data=(X_test, y_test), epochs=10, batch_size=200)\n",
        "print_model_error_rate(model_large,X_test,y_test)"
      ]
    },
    {
      "cell_type": "code",
      "execution_count": 16,
      "metadata": {
        "id": "XjT_WdURboG6"
      },
      "outputs": [],
      "source": [
        "from keras.models import model_from_json"
      ]
    },
    {
      "cell_type": "code",
      "execution_count": 17,
      "metadata": {
        "id": "MVx-EkRhbS7t"
      },
      "outputs": [],
      "source": [
        "def save_keras_model(model, filename):\n",
        "  # serialize model to JSON\n",
        "  model_json = model.to_json()\n",
        "  with open(filename+\".json\", \"w\") as json_file:\n",
        "    json_file.write(model_json)\n",
        "  # serialize weights to HDF5\n",
        "  model.save_weights(filename+\".h5\")"
      ]
    },
    {
      "cell_type": "code",
      "execution_count": 18,
      "metadata": {
        "id": "eLHGjhSQb7fR"
      },
      "outputs": [],
      "source": [
        "save_keras_model(model,\"small_model\")\n",
        "save_keras_model(model_medium,\"medium_model\")\n",
        "save_keras_model(model_large,\"large_model\")"
      ]
    },
    {
      "cell_type": "code",
      "execution_count": 19,
      "metadata": {
        "id": "3kWTnKA_ciet"
      },
      "outputs": [],
      "source": [
        "def load_keras_model(filename):\n",
        "  # load json and create model\n",
        "  json_file = open(filename+\".json\", 'r')\n",
        "  loaded_model_json = json_file.read()\n",
        "  json_file.close()\n",
        "  loaded_model = model_from_json(loaded_model_json)\n",
        "  # load weights into new model\n",
        "  loaded_model.load_weights(filename+\".h5\")\n",
        "  return loaded_model"
      ]
    },
    {
      "cell_type": "code",
      "execution_count": 21,
      "metadata": {
        "colab": {
          "base_uri": "https://localhost:8080/"
        },
        "id": "II43vsajcmFs",
        "outputId": "a6d85154-a42c-408b-c90b-b940e3240a12"
      },
      "outputs": [
        {
          "name": "stdout",
          "output_type": "stream",
          "text": [
            "Model: \"sequential\"\n",
            "_________________________________________________________________\n",
            " Layer (type)                Output Shape              Param #   \n",
            "=================================================================\n",
            " conv2d (Conv2D)             (None, 64, 26, 26)        640       \n",
            "                                                                 \n",
            " conv2d_1 (Conv2D)           (None, 32, 24, 24)        18464     \n",
            "                                                                 \n",
            " flatten (Flatten)           (None, 18432)             0         \n",
            "                                                                 \n",
            " dense (Dense)               (None, 10)                184330    \n",
            "                                                                 \n",
            "=================================================================\n",
            "Total params: 203434 (794.66 KB)\n",
            "Trainable params: 203434 (794.66 KB)\n",
            "Non-trainable params: 0 (0.00 Byte)\n",
            "_________________________________________________________________\n"
          ]
        },
        {
          "name": "stdout",
          "output_type": "stream",
          "text": [
            "Model: \"sequential_1\"\n",
            "_________________________________________________________________\n",
            " Layer (type)                Output Shape              Param #   \n",
            "=================================================================\n",
            " conv2d_2 (Conv2D)           (None, 32, 24, 24)        832       \n",
            "                                                                 \n",
            " max_pooling2d (MaxPooling2  (None, 32, 12, 12)        0         \n",
            " D)                                                              \n",
            "                                                                 \n",
            " dropout (Dropout)           (None, 32, 12, 12)        0         \n",
            "                                                                 \n",
            " flatten_1 (Flatten)         (None, 4608)              0         \n",
            "                                                                 \n",
            " dense_1 (Dense)             (None, 128)               589952    \n",
            "                                                                 \n",
            " dense_2 (Dense)             (None, 10)                1290      \n",
            "                                                                 \n",
            "=================================================================\n",
            "Total params: 592074 (2.26 MB)\n",
            "Trainable params: 592074 (2.26 MB)\n",
            "Non-trainable params: 0 (0.00 Byte)\n",
            "_________________________________________________________________\n",
            "Model: \"sequential_2\"\n",
            "_________________________________________________________________\n",
            " Layer (type)                Output Shape              Param #   \n",
            "=================================================================\n",
            " conv2d_3 (Conv2D)           (None, 30, 24, 24)        780       \n",
            "                                                                 \n",
            " max_pooling2d_1 (MaxPoolin  (None, 30, 12, 12)        0         \n",
            " g2D)                                                            \n",
            "                                                                 \n",
            " conv2d_4 (Conv2D)           (None, 15, 10, 10)        4065      \n",
            "                                                                 \n",
            " max_pooling2d_2 (MaxPoolin  (None, 15, 5, 5)          0         \n",
            " g2D)                                                            \n",
            "                                                                 \n",
            " dropout_1 (Dropout)         (None, 15, 5, 5)          0         \n",
            "                                                                 \n",
            " flatten_2 (Flatten)         (None, 375)               0         \n",
            "                                                                 \n",
            " dense_3 (Dense)             (None, 128)               48128     \n",
            "                                                                 \n",
            " dense_4 (Dense)             (None, 50)                6450      \n",
            "                                                                 \n",
            " dense_5 (Dense)             (None, 10)                510       \n",
            "                                                                 \n",
            "=================================================================\n",
            "Total params: 59933 (234.11 KB)\n",
            "Trainable params: 59933 (234.11 KB)\n",
            "Non-trainable params: 0 (0.00 Byte)\n",
            "_________________________________________________________________\n"
          ]
        }
      ],
      "source": [
        "small_model=load_keras_model(\"small_model\")\n",
        "small_model.summary()\n",
        "medium_model=load_keras_model(\"medium_model\")\n",
        "medium_model.summary()\n",
        "large_model=load_keras_model(\"large_model\")\n",
        "large_model.summary()"
      ]
    }
  ],
  "metadata": {
    "accelerator": "GPU",
    "colab": {
      "gpuType": "T4",
      "provenance": []
    },
    "kernelspec": {
      "display_name": "Python 3",
      "name": "python3"
    },
    "language_info": {
      "codemirror_mode": {
        "name": "ipython",
        "version": 3
      },
      "file_extension": ".py",
      "mimetype": "text/x-python",
      "name": "python",
      "nbconvert_exporter": "python",
      "pygments_lexer": "ipython3",
      "version": "3.11.5"
    }
  },
  "nbformat": 4,
  "nbformat_minor": 0
}
